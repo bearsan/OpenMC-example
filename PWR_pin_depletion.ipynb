{
 "cells": [
  {
   "cell_type": "code",
   "execution_count": 1,
   "metadata": {},
   "outputs": [],
   "source": [
    "import openmc\n",
    "import openmc.deplete\n",
    "import numpy as np"
   ]
  },
  {
   "cell_type": "code",
   "execution_count": 2,
   "metadata": {},
   "outputs": [],
   "source": [
    "# Material\n",
    "fuel = openmc.Material(name='fuel')# 建立燃料对象\n",
    "fuel.set_density(units=\"atom/b-cm\",density=8.0175E-2)# 设置燃料密度\n",
    "fuel.add_nuclide(\"U233\",1.5621E-3,percent_type=\"ao\")# 添加核素U-233，含量占比为原子数比例\n",
    "fuel.add_nuclide(\"Th232\",1.2639E-2,percent_type=\"ao\")# 添加核素Th-232，含量占比为原子数比例\n",
    "fuel.add_nuclide(\"O16\",2.8402E-2,percent_type=\"ao\")# 添加核素O-16，含量占比为原子数比例\n",
    "fuel.temperature = 1500 # 设置燃料温度，单位为Kelvin\n",
    "\n",
    "############Depletion############\n",
    "fuel.depletable = True\n",
    "fuel.volume = np.pi*0.52273**2\n",
    "############Depletion############\n",
    "\n",
    "clad = openmc.Material(name='clad')\n",
    "clad.set_density(units='atom/b-cm',density=4.3346E-2)\n",
    "clad.add_nuclide(\"Zr91\",1,percent_type=\"ao\")\n",
    "clad.temperature = 600\n",
    "\n",
    "moderator = openmc.Material(name=\"moderator\")\n",
    "moderator.set_density(units=\"atom/b-cm\",density=6.5491E-2)\n",
    "moderator.add_nuclide(\"H2\",4.3661E-2,percent_type=\"ao\")\n",
    "moderator.add_nuclide(\"O16\",2.1830E-2,percent_type=\"ao\")\n",
    "moderator.temperature = 600\n",
    "moderator.add_s_alpha_beta('c_D_in_D2O') # 添加水中氘的热散射截面\n",
    "\n",
    "materials = openmc.Materials([fuel, clad, moderator])"
   ]
  },
  {
   "cell_type": "code",
   "execution_count": 3,
   "metadata": {},
   "outputs": [],
   "source": [
    "# Geometry parameters\n",
    "fuel_r = [0.52273,0.57273] # 燃料栅元半径 （忽略气隙）\n",
    "pitch = 1.26 # 栅距"
   ]
  },
  {
   "cell_type": "code",
   "execution_count": 4,
   "metadata": {},
   "outputs": [],
   "source": [
    "# Pin universe\n",
    "pin_univ = openmc.Universe(name='pin')\n",
    "\n",
    "# Surface\n",
    "fuel_outer = openmc.ZCylinder(r=fuel_r[0])\n",
    "clad_outer = openmc.ZCylinder(r=fuel_r[1])\n",
    "bound_box = openmc.rectangular_prism(pitch, pitch, boundary_type=\"reflective\")\n",
    "\n",
    "# Cell\n",
    "fuel_cell = openmc.Cell(name='fuel cell')\n",
    "fuel_cell.fill = fuel\n",
    "fuel_cell.region = -fuel_outer\n",
    "pin_univ.add_cell(fuel_cell)\n",
    "\n",
    "clad_cell = openmc.Cell(name='clad cell')\n",
    "clad_cell.fill = clad\n",
    "clad_cell.region = +fuel_outer & -clad_outer\n",
    "pin_univ.add_cell(clad_cell)\n",
    "\n",
    "mod_cell = openmc.Cell(name='moderator cell')\n",
    "mod_cell.fill = moderator\n",
    "mod_cell.region = bound_box\n",
    "mod_cell.region = mod_cell.region & +clad_outer\n",
    "pin_univ.add_cell(mod_cell)"
   ]
  },
  {
   "cell_type": "code",
   "execution_count": 5,
   "metadata": {},
   "outputs": [],
   "source": [
    "geometry = openmc.Geometry(pin_univ)"
   ]
  },
  {
   "cell_type": "code",
   "execution_count": 6,
   "metadata": {},
   "outputs": [],
   "source": [
    "# 设置计算参数\n",
    "# settings\n",
    "settings = openmc.Settings() # 创建参数对象\n",
    "settings.particles = 10000 # 粒子数\n",
    "settings.inactive = 100 # 非活跃代\n",
    "settings.batches = 200 # 总代数\n",
    "settings.temperature['multipole']= True # 调用Windowed Multipole做多普勒展开\n",
    "settings.temperature['method']= 'interpolation' "
   ]
  },
  {
   "cell_type": "code",
   "execution_count": 7,
   "metadata": {},
   "outputs": [],
   "source": [
    "# 绘制几何结构\n",
    "# plot\n",
    "plot_xy = openmc.Plot(plot_id=1)\n",
    "plot_xy.basis = 'xy'\n",
    "plot_xy.filename = 'materials-xy-Height'\n",
    "plot_xy.origin = [0, 0,0]\n",
    "plot_xy.pixels = [3000, 3000]\n",
    "plot_xy.width = (2, 2)\n",
    "plot_xy.color_by = 'material'"
   ]
  },
  {
   "cell_type": "code",
   "execution_count": 9,
   "metadata": {},
   "outputs": [],
   "source": [
    "# 输出上述几何、计算设置、材料、几何绘制文件\n",
    "# export to xml\n",
    "geometry.export_to_xml()\n",
    "settings.export_to_xml()\n",
    "materials.export_to_xml()\n",
    "plot_file = openmc.Plots([plot_xy])\n",
    "plot_file.export_to_xml()"
   ]
  },
  {
   "cell_type": "code",
   "execution_count": 10,
   "metadata": {},
   "outputs": [],
   "source": [
    "# 绘制几何\n",
    "openmc.plot_geometry(output=False)"
   ]
  },
  {
   "cell_type": "code",
   "execution_count": null,
   "metadata": {},
   "outputs": [],
   "source": [
    "############Depletion############"
   ]
  },
  {
   "cell_type": "code",
   "execution_count": 11,
   "metadata": {},
   "outputs": [],
   "source": [
    "chain = openmc.deplete.Chain.from_xml(\"./chain_casl_pwr.xml\")"
   ]
  },
  {
   "cell_type": "code",
   "execution_count": 12,
   "metadata": {
    "scrolled": true
   },
   "outputs": [
    {
     "name": "stderr",
     "output_type": "stream",
     "text": [
      "/home/bearsanxw/miniconda3/lib/python3.7/site-packages/openmc/mixin.py:68: IDWarning: Another Surface instance already exists with id=1.\n",
      "  warn(msg, IDWarning)\n",
      "/home/bearsanxw/miniconda3/lib/python3.7/site-packages/openmc/mixin.py:68: IDWarning: Another Surface instance already exists with id=2.\n",
      "  warn(msg, IDWarning)\n",
      "/home/bearsanxw/miniconda3/lib/python3.7/site-packages/openmc/mixin.py:68: IDWarning: Another Surface instance already exists with id=3.\n",
      "  warn(msg, IDWarning)\n",
      "/home/bearsanxw/miniconda3/lib/python3.7/site-packages/openmc/mixin.py:68: IDWarning: Another Surface instance already exists with id=4.\n",
      "  warn(msg, IDWarning)\n",
      "/home/bearsanxw/miniconda3/lib/python3.7/site-packages/openmc/mixin.py:68: IDWarning: Another Surface instance already exists with id=5.\n",
      "  warn(msg, IDWarning)\n",
      "/home/bearsanxw/miniconda3/lib/python3.7/site-packages/openmc/mixin.py:68: IDWarning: Another Surface instance already exists with id=6.\n",
      "  warn(msg, IDWarning)\n",
      "/home/bearsanxw/miniconda3/lib/python3.7/site-packages/openmc/mixin.py:68: IDWarning: Another Material instance already exists with id=1.\n",
      "  warn(msg, IDWarning)\n",
      "/home/bearsanxw/miniconda3/lib/python3.7/site-packages/openmc/mixin.py:68: IDWarning: Another Material instance already exists with id=2.\n",
      "  warn(msg, IDWarning)\n",
      "/home/bearsanxw/miniconda3/lib/python3.7/site-packages/openmc/mixin.py:68: IDWarning: Another Material instance already exists with id=3.\n",
      "  warn(msg, IDWarning)\n",
      "/home/bearsanxw/miniconda3/lib/python3.7/site-packages/openmc/mixin.py:68: IDWarning: Another Cell instance already exists with id=1.\n",
      "  warn(msg, IDWarning)\n",
      "/home/bearsanxw/miniconda3/lib/python3.7/site-packages/openmc/mixin.py:68: IDWarning: Another Universe instance already exists with id=1.\n",
      "  warn(msg, IDWarning)\n",
      "/home/bearsanxw/miniconda3/lib/python3.7/site-packages/openmc/mixin.py:68: IDWarning: Another Cell instance already exists with id=2.\n",
      "  warn(msg, IDWarning)\n",
      "/home/bearsanxw/miniconda3/lib/python3.7/site-packages/openmc/mixin.py:68: IDWarning: Another Cell instance already exists with id=3.\n",
      "  warn(msg, IDWarning)\n"
     ]
    }
   ],
   "source": [
    "# 如果geometry和settings这两个变量仍在内存里，可以直接调用；否则，通过下述函数读取\n",
    "# geometry = openmc.Geometry.from_xml()\n",
    "# settings = openmc.Settings.from_xml()"
   ]
  },
  {
   "cell_type": "code",
   "execution_count": 14,
   "metadata": {},
   "outputs": [],
   "source": [
    "# 设置燃耗\n",
    "# 几何、计算设置、燃耗链\n",
    "operator = openmc.deplete.Operator(geometry, settings, \"./chain_casl_pwr.xml\")"
   ]
  },
  {
   "cell_type": "code",
   "execution_count": 15,
   "metadata": {},
   "outputs": [],
   "source": [
    "# 给定总功率，单位为W。如果是二维问题，则是W/cm\n",
    "power = 174\n",
    "# 通过列表给定燃耗计算时间步，默认单位是s\n",
    "time_steps = [30 * 24 * 60 * 60] * 6"
   ]
  },
  {
   "cell_type": "code",
   "execution_count": null,
   "metadata": {},
   "outputs": [],
   "source": [
    "# 设置燃耗求解器\n",
    "# 选用 PredictorIntegrator\n",
    "integrator = openmc.deplete.PredictorIntegrator(operator, time_steps, power)"
   ]
  },
  {
   "cell_type": "code",
   "execution_count": null,
   "metadata": {},
   "outputs": [],
   "source": [
    "# 启动燃耗计算\n",
    "integrator.integrate()"
   ]
  }
 ],
 "metadata": {
  "kernelspec": {
   "display_name": "Python 3",
   "language": "python",
   "name": "python3"
  },
  "language_info": {
   "codemirror_mode": {
    "name": "ipython",
    "version": 3
   },
   "file_extension": ".py",
   "mimetype": "text/x-python",
   "name": "python",
   "nbconvert_exporter": "python",
   "pygments_lexer": "ipython3",
   "version": "3.7.4"
  }
 },
 "nbformat": 4,
 "nbformat_minor": 2
}
