{
 "cells": [
  {
   "cell_type": "code",
   "execution_count": 1,
   "metadata": {},
   "outputs": [],
   "source": [
    "import openmc\n",
    "import numpy as np"
   ]
  },
  {
   "cell_type": "code",
   "execution_count": 2,
   "metadata": {},
   "outputs": [],
   "source": [
    "# Material\n",
    "fuel = openmc.Material(name='fuel')\n",
    "fuel.set_density(units=\"atom/b-cm\",density=8.0175E-2)\n",
    "fuel.add_nuclide(\"U233\",1.5621E-3,percent_type=\"ao\")\n",
    "fuel.add_nuclide(\"Th232\",1.2639E-2,percent_type=\"ao\")\n",
    "fuel.add_nuclide(\"O16\",2.8402E-2,percent_type=\"ao\")\n",
    "fuel.temperature = 1500\n",
    "\n",
    "clad = openmc.Material(name='clad')\n",
    "clad.set_density(units='atom/b-cm',density=4.3346E-2)\n",
    "clad.add_nuclide(\"Zr91\",1,percent_type=\"ao\")\n",
    "clad.temperature = 600\n",
    "\n",
    "moderator = openmc.Material(name=\"moderator\")\n",
    "moderator.set_density(units=\"atom/b-cm\",density=6.5491E-2)\n",
    "moderator.add_nuclide(\"H2\",4.3661E-2,percent_type=\"ao\")\n",
    "moderator.add_nuclide(\"O16\",2.1830E-2,percent_type=\"ao\")\n",
    "moderator.temperature = 600\n",
    "moderator.add_s_alpha_beta('c_D_in_D2O')\n",
    "\n",
    "materials = openmc.Materials([fuel, clad, moderator])"
   ]
  },
  {
   "cell_type": "code",
   "execution_count": 3,
   "metadata": {},
   "outputs": [],
   "source": [
    "# Geometry parameters\n",
    "fuel_r = [0.52273,0.57273]\n",
    "cr_r = [0.5042,0.5461]\n",
    "gt_r = [0.43688,0.48387,0.56134,0.60198]\n",
    "pitch = 1.26\n",
    "assembly_len = 21.42\n",
    "axial_height = 200"
   ]
  },
  {
   "cell_type": "code",
   "execution_count": 4,
   "metadata": {},
   "outputs": [],
   "source": [
    "# fuel pin\n",
    "fuel_pin_surfaces = [openmc.ZCylinder(r=r) for r in fuel_r]\n",
    "fuel_pin_univ = openmc.model.pin(fuel_pin_surfaces, openmc.Materials([fuel,clad,moderator]))\n",
    "\n",
    "# control rod pin\n",
    "cr_pin_surfaces = [openmc.ZCylinder(r=r) for r in cr_r]\n",
    "cr_pin_univ = openmc.model.pin(cr_pin_surfaces, openmc.Materials([moderator,clad,moderator]))\n",
    "\n",
    "# guide tube pin\n",
    "gt_pin_surfaces = [openmc.ZCylinder(r=r) for r in gt_r]\n",
    "gt_pin_univ = openmc.model.pin(gt_pin_surfaces, openmc.Materials([moderator,clad,moderator,clad,moderator]))"
   ]
  },
  {
   "cell_type": "code",
   "execution_count": 5,
   "metadata": {},
   "outputs": [],
   "source": [
    "# assembly lattice\n",
    "lattice = openmc.RectLattice()\n",
    "lattice.lower_left = (-assembly_len/2, -assembly_len/2)\n",
    "lattice.pitch = (pitch, pitch)\n",
    "lat = np.tile(fuel_pin_univ, (17, 17))"
   ]
  },
  {
   "cell_type": "code",
   "execution_count": 8,
   "metadata": {},
   "outputs": [],
   "source": [
    "# guide tube\n",
    "lat[8,8] = gt_pin_univ\n",
    "# control rod\n",
    "lat[2,[5,8,11]]=cr_pin_univ\n",
    "lat[14,[5,8,11]]=cr_pin_univ\n",
    "lat[3,[3,13]]=cr_pin_univ\n",
    "lat[13,[3,13]]=cr_pin_univ\n",
    "lat[5,[2,5,8,11,14]]=cr_pin_univ\n",
    "lat[11,[2,5,8,11,14]]=cr_pin_univ\n",
    "lat[8,[2,5,11,14]]=cr_pin_univ\n",
    "\n",
    "lattice.universes = lat"
   ]
  },
  {
   "cell_type": "code",
   "execution_count": 9,
   "metadata": {},
   "outputs": [],
   "source": [
    "# root cell and universe\n",
    "root_cell = openmc.Cell(name='root cell')\n",
    "root_cell.fill = lattice\n",
    "assembly_top = openmc.ZPlane(z0 = axial_height/2,boundary_type='reflective')\n",
    "assembly_bottom = openmc.ZPlane(z0 = -axial_height/2,boundary_type='reflective')\n",
    "bound_box = openmc.rectangular_prism(assembly_len, assembly_len, boundary_type=\"reflective\")\n",
    "root_cell.region = bound_box\n",
    "root_cell.region = root_cell.region & -assembly_top & +assembly_bottom\n",
    "\n",
    "root_univ = openmc.Universe(cells=[root_cell])\n",
    "geometry = openmc.Geometry(root_univ)"
   ]
  },
  {
   "cell_type": "code",
   "execution_count": 10,
   "metadata": {},
   "outputs": [],
   "source": [
    "# settings\n",
    "settings = openmc.Settings()\n",
    "settings.particles = 10000\n",
    "settings.inactive = 100\n",
    "settings.batches = 200\n",
    "settings.temperature['multipole']= True\n",
    "settings.temperature['method']= 'interpolation'"
   ]
  },
  {
   "cell_type": "code",
   "execution_count": 11,
   "metadata": {},
   "outputs": [],
   "source": [
    "# plot\n",
    "plot_xy = openmc.Plot(plot_id=1)\n",
    "plot_xy.basis = 'xy'\n",
    "plot_xy.filename = 'materials-xy-Height'\n",
    "plot_xy.origin = [0, 0,0]\n",
    "plot_xy.pixels = [3000, 3000]\n",
    "plot_xy.width = (25, 25)\n",
    "plot_xy.color_by = 'material'"
   ]
  },
  {
   "cell_type": "code",
   "execution_count": 13,
   "metadata": {},
   "outputs": [],
   "source": [
    "# plot\n",
    "plot_xz = openmc.Plot(plot_id=2)\n",
    "plot_xz.basis = 'xz'\n",
    "plot_xz.filename = 'materials-yz-Height'\n",
    "plot_xz.origin = [0, 0,0]\n",
    "plot_xz.pixels = [3000, 3000]\n",
    "plot_xz.width = (100, 100)\n",
    "plot_xz.color_by = 'material'"
   ]
  },
  {
   "cell_type": "code",
   "execution_count": 14,
   "metadata": {},
   "outputs": [],
   "source": [
    "# export to xml\n",
    "geometry.export_to_xml()\n",
    "settings.export_to_xml()\n",
    "materials.export_to_xml()\n",
    "plot_file = openmc.Plots([plot_xy,plot_xz])\n",
    "plot_file.export_to_xml()"
   ]
  },
  {
   "cell_type": "code",
   "execution_count": 15,
   "metadata": {},
   "outputs": [],
   "source": [
    "openmc.plot_geometry(output=False)"
   ]
  },
  {
   "cell_type": "code",
   "execution_count": null,
   "metadata": {},
   "outputs": [],
   "source": [
    "# openmc.run()"
   ]
  }
 ],
 "metadata": {
  "kernelspec": {
   "display_name": "Python 3",
   "language": "python",
   "name": "python3"
  },
  "language_info": {
   "codemirror_mode": {
    "name": "ipython",
    "version": 3
   },
   "file_extension": ".py",
   "mimetype": "text/x-python",
   "name": "python",
   "nbconvert_exporter": "python",
   "pygments_lexer": "ipython3",
   "version": "3.7.4"
  }
 },
 "nbformat": 4,
 "nbformat_minor": 2
}
